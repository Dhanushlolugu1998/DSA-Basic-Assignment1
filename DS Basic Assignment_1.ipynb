{
 "cells": [
  {
   "cell_type": "code",
   "execution_count": 8,
   "id": "9c4b8cb0",
   "metadata": {},
   "outputs": [],
   "source": [
    "#Q1. Write a program to find all pairs of an integer array whose sum is equal to a given number?\n",
    "\n",
    "#Q2. Write a program to reverse an array in place? In place means you cannot create a new array. You have to update the original array.\n",
    "\n",
    "def find_all_pairs_with_sum(arr,target_sum):\n",
    "    pairs= []\n",
    "    seen = set()\n",
    "    for num in arr:\n",
    "        complement = target_sum - num\n",
    "        if complement in seen:\n",
    "            pairs.append((num,complement))\n",
    "        seen.add(num)\n",
    "    return pairs\n",
    "def reverse_array_in_place(arr):\n",
    "    start =0\n",
    "    end = len(arr)-1\n",
    "    while start<end:\n",
    "        arr[start],arr[end]=arr[end],arr[start]\n",
    "        start+=1\n",
    "        end -=1\n"
   ]
  },
  {
   "cell_type": "code",
   "execution_count": 9,
   "id": "ce369f1a",
   "metadata": {},
   "outputs": [
    {
     "name": "stdout",
     "output_type": "stream",
     "text": [
      "Pairs with Sum 5 : [(3, 2), (4, 1)]\n"
     ]
    }
   ],
   "source": [
    "arr = [1,2 ,3,4,5,]\n",
    "target_sum = 5\n",
    "result = find_all_pairs_with_sum(arr,target_sum)\n",
    "print(\"Pairs with Sum\",target_sum, ':',result)  "
   ]
  },
  {
   "cell_type": "code",
   "execution_count": 29,
   "id": "1e3f37fc",
   "metadata": {},
   "outputs": [
    {
     "name": "stdout",
     "output_type": "stream",
     "text": [
      "Reversed Array : [5, 4, 3, 2, 1]\n"
     ]
    }
   ],
   "source": [
    "arr = [1,2 ,3,4,5,]\n",
    "reverse_array_in_place(arr)\n",
    "print(\"Reversed Array :\",arr)"
   ]
  },
  {
   "cell_type": "code",
   "execution_count": 26,
   "id": "3c3ba25b",
   "metadata": {},
   "outputs": [
    {
     "name": "stdout",
     "output_type": "stream",
     "text": [
      "Enter the first String:Dhanush\n",
      "Enter the first String:ushDhan\n",
      "Are 'Dhanush' and 'ushDhan' rotations of each other ?\n",
      " True\n"
     ]
    }
   ],
   "source": [
    "# Q3. Write a program to check if two strings are a rotation of each other?\n",
    "\n",
    "def are_strings_rotations(str1,str2):\n",
    "    if len(str1) != len(str2):\n",
    "        return False\n",
    "    temp = str1 + str2\n",
    "    if str2 in temp:\n",
    "        return True\n",
    "    return False\n",
    "str1 = input(\"Enter the first String:\")\n",
    "str2 = input(\"Enter the first String:\")\n",
    "result = are_strings_rotations(str1,str2)\n",
    "print(\"Are '{}' and '{}' rotations of each other ?\\n\".format(str1,str2),result)"
   ]
  },
  {
   "cell_type": "code",
   "execution_count": 2,
   "id": "f5afeaaf",
   "metadata": {},
   "outputs": [
    {
     "name": "stdout",
     "output_type": "stream",
     "text": [
      "Enter a string:edyoda\n",
      "First non-repeated character in 'edyoda' is : e\n"
     ]
    }
   ],
   "source": [
    "# Q4. Write a program to print the first non-repeated character from a string?\n",
    "\n",
    "def first_non_repeated_char(input_str):\n",
    "    char_count ={}\n",
    "    for char in input_str:\n",
    "        if char in char_count:\n",
    "            char_count[char] +=1\n",
    "        else:\n",
    "            char_count[char] =1\n",
    "    for char in input_str:\n",
    "        if char_count[char] ==1:\n",
    "            return char\n",
    "    return None\n",
    "input_str = input(\"Enter a string:\")\n",
    "result = first_non_repeated_char(input_str)\n",
    "print(\"First non-repeated character in '{}' is :\".format(input_str),result)"
   ]
  },
  {
   "cell_type": "code",
   "execution_count": 11,
   "id": "e1f61352",
   "metadata": {},
   "outputs": [
    {
     "name": "stdout",
     "output_type": "stream",
     "text": [
      "Enter the number:3\n",
      "Move disk 1 from source A to target C\n",
      "Move disk 2 from source A to target B\n",
      "Move disk 1 from source C to target B\n",
      "Move disk 3 from source A to target C\n",
      "Move disk 1 from source B to target A\n",
      "Move disk 2 from source B to target C\n",
      "Move disk 1 from source A to target C\n"
     ]
    }
   ],
   "source": [
    "# Q5. Read about the Tower of Hanoi algorithm. Write a program to implement it.\n",
    "\n",
    "def tower_of_hanoi(n,source,aux,target):\n",
    "    if n == 1:\n",
    "        print(\"Move disk 1 from source\",source,\"to target\",target)\n",
    "        return \n",
    "    tower_of_hanoi(n-1,source,target,aux)\n",
    "    print(\"Move disk\",n,\"from source\",source,\"to target\",target)\n",
    "    tower_of_hanoi(n-1,aux,source,target)\n",
    "num_disks =int(input(\"Enter the number:\"))\n",
    "tower_of_hanoi(num_disks,'A','B','C')"
   ]
  },
  {
   "cell_type": "code",
   "execution_count": 26,
   "id": "254e783d",
   "metadata": {},
   "outputs": [
    {
     "name": "stdout",
     "output_type": "stream",
     "text": [
      "Postfix: 23+5*\n",
      "Prefix: *+235\n"
     ]
    }
   ],
   "source": [
    "# Q6. Read about infix, prefix, and postfix expressions. Write a program to convert postfix to prefix expression.\n",
    "\n",
    "def postfix_to_prefix(postfix_expression):\n",
    "    stack = []\n",
    "    operators = set(['+', '-', '*', '/'])\n",
    "\n",
    "    for symbol in postfix_expression:\n",
    "        if symbol not in operators:\n",
    "            stack.append(symbol)\n",
    "        else:\n",
    "            operand2 = stack.pop()\n",
    "            operand1 = stack.pop()\n",
    "            prefix_expression = symbol + operand1 + operand2\n",
    "            stack.append(prefix_expression)\n",
    "\n",
    "    return stack.pop()\n",
    "postfix_expr = \"23+5*\"\n",
    "prefix_expr = postfix_to_prefix(postfix_expr)\n",
    "print(\"Postfix:\", postfix_expr)\n",
    "print(\"Prefix:\", prefix_expr)"
   ]
  },
  {
   "cell_type": "code",
   "execution_count": 29,
   "id": "dc078ca2",
   "metadata": {},
   "outputs": [
    {
     "name": "stdout",
     "output_type": "stream",
     "text": [
      "Prefix: *-A/BC-/AKL\n",
      "Infix: ((A-(B/C))*((A/K)-L))\n"
     ]
    }
   ],
   "source": [
    "# Q7. Write a program to convert prefix expression to infix expression.\n",
    "\n",
    "def is_operator(char):\n",
    "    return char in ['+', '-', '*', '/']\n",
    "\n",
    "def prefix_to_infix(prefix_expression):\n",
    "    stack = []\n",
    "    operators = set(['+', '-', '*', '/'])\n",
    "    prefix_expression = prefix_expression[::-1]\n",
    "    for symbol in prefix_expression:\n",
    "        if not is_operator(symbol):\n",
    "            stack.append(symbol)\n",
    "        else:\n",
    "            operand1 = stack.pop()\n",
    "            operand2 = stack.pop()\n",
    "            infix_expression = f\"({operand1}{symbol}{operand2})\"\n",
    "            stack.append(infix_expression)\n",
    "    return stack.pop()\n",
    "prefix_expr = \"*-A/BC-/AKL\"\n",
    "infix_expr = prefix_to_infix(prefix_expr)\n",
    "print(\"Prefix:\", prefix_expr)\n",
    "print(\"Infix:\", infix_expr)"
   ]
  },
  {
   "cell_type": "code",
   "execution_count": 33,
   "id": "b97b25d0",
   "metadata": {},
   "outputs": [
    {
     "name": "stdout",
     "output_type": "stream",
     "text": [
      "All brackets in the code snippet are closed.\n"
     ]
    }
   ],
   "source": [
    "# # Q8. Write a program to check if all the brackets are closed in a given code snippet.\n",
    "def are_brackets_closed(code):\n",
    "    stack = []\n",
    "    brackets = {\"(\": \")\", \"[\": \"]\", \"{\": \"}\"}\n",
    "\n",
    "    for char in code:\n",
    "        if char in brackets.keys():\n",
    "            stack.append(char)\n",
    "        elif char in brackets.values():\n",
    "            if not stack or brackets[stack.pop()] != char:\n",
    "                return False\n",
    "\n",
    "    return len(stack) == 0\n",
    "code_snippet = \"{[a + (b - c)] * (d / e)}\"\n",
    "result = are_brackets_closed(code_snippet)\n",
    "if result:\n",
    "   print(\"All brackets in the code snippet are closed.\")\n",
    "else:\n",
    "   print(\"Not all brackets in the code snippet are closed.\")"
   ]
  },
  {
   "cell_type": "code",
   "execution_count": 34,
   "id": "d4f53949",
   "metadata": {},
   "outputs": [
    {
     "name": "stdout",
     "output_type": "stream",
     "text": [
      "Original Stack\n",
      "5\n",
      "4\n",
      "3\n",
      "2\n",
      "1\n",
      "\n",
      "Stack after Reversing\n",
      "1\n",
      "2\n",
      "3\n",
      "4\n",
      "5\n"
     ]
    }
   ],
   "source": [
    "# Q9. Write a program to reverse a stack.\n",
    "class Stack:\n",
    "    def __init__(self):\n",
    "        self.Elements = []\n",
    "    def push(self, value):\n",
    "        self.Elements.append(value)\n",
    "    def pop(self):\n",
    "        return self.Elements.pop()\n",
    "    def empty(self):\n",
    "        return self.Elements == []\n",
    "    def show(self):\n",
    "        for value in reversed(self.Elements):\n",
    "            print(value)\n",
    "def BottomInsert(s, value):\n",
    "    if s.empty():\n",
    "        s.push(value)\n",
    "    else:\n",
    "        popped = s.pop()\n",
    "        BottomInsert(s, value)\n",
    "        s.push(popped)\n",
    "def Reverse(s):\n",
    "    if s.empty():\n",
    "        pass\n",
    "    else:\n",
    "        popped = s.pop()\n",
    "        Reverse(s)\n",
    "        BottomInsert(s, popped)\n",
    "stk = Stack()\n",
    "stk.push(1)\n",
    "stk.push(2)\n",
    "stk.push(3)\n",
    "stk.push(4)\n",
    "stk.push(5)\n",
    "print(\"Original Stack\")\n",
    "stk.show()\n",
    "print(\"\\nStack after Reversing\")\n",
    "Reverse(stk)\n",
    "stk.show()"
   ]
  },
  {
   "cell_type": "code",
   "execution_count": 39,
   "id": "649945c2",
   "metadata": {},
   "outputs": [
    {
     "name": "stdout",
     "output_type": "stream",
     "text": [
      "Number Inserted: 3\n",
      "Number Inserted: 5\n",
      "Minimum Element in the stack is: 3\n",
      "Number Inserted: 2\n",
      "Number Inserted: 1\n",
      "Minimum Element in the stack is: 1\n",
      "Top Most Element Removed :1 \n",
      "Minimum Element in the stack is: 2\n",
      "Top Most Element Removed :2 \n"
     ]
    }
   ],
   "source": [
    "# Q10. Write a program to find the smallest number using a stack.\n",
    "\n",
    "class Node:\n",
    "    \n",
    "    def __init__(self, value):\n",
    "        self.value = value\n",
    "   \n",
    "    def __str__(self):\n",
    "        return \"Node({})\".format(self.value)\n",
    "  \n",
    "    __repr__ = __str__\n",
    "  \n",
    "  \n",
    "class Stack:\n",
    "  \n",
    "    def __init__(self):\n",
    "        self.top = None\n",
    "        self.count = 0\n",
    "        self.minimum = None\n",
    "  \n",
    "   \n",
    "    def __str__(self):\n",
    "        temp = self.top\n",
    "        out = []\n",
    "        while temp:\n",
    "            out.append(str(temp.value))\n",
    "            temp = temp.next\n",
    "        out = '\\n'.join(out)\n",
    "        return ('Top {} \\n\\nStack :\\n{}'.format(self.top, out))\n",
    "  \n",
    "   \n",
    "    __repr__ = __str__\n",
    "  \n",
    "    \n",
    "    def getMin(self):\n",
    "        if self.top is None:\n",
    "            return \"Stack is empty\"\n",
    "        else:\n",
    "            print(\"Minimum Element in the stack is: {}\" .format(self.minimum))\n",
    "  \n",
    "   \n",
    "    def isEmpty(self):\n",
    "      \n",
    "        if self.top == None:\n",
    "            return True\n",
    "        else:\n",
    "          \n",
    "            return False\n",
    "  \n",
    "   \n",
    "    def __len__(self):\n",
    "        self.count = 0\n",
    "        tempNode = self.top\n",
    "        while tempNode:\n",
    "            tempNode = tempNode.next\n",
    "            self.count += 1\n",
    "        return self.count\n",
    "  \n",
    "   \n",
    "    def peek(self):\n",
    "        if self.top is None:\n",
    "            print(\"Stack is empty\")\n",
    "        else:\n",
    "            if self.top.value < self.minimum:\n",
    "                print(\"Top Most Element is: {}\" .format(self.minimum))\n",
    "            else:\n",
    "                print(\"Top Most Element is: {}\" .format(self.top.value))\n",
    "  \n",
    "  \n",
    "    def push(self, value):\n",
    "        if self.top is None:\n",
    "            self.top = Node(value)\n",
    "            self.minimum = value\n",
    "  \n",
    "        elif value < self.minimum:\n",
    "            temp = (2 * value) - self.minimum\n",
    "            new_node = Node(temp)\n",
    "            new_node.next = self.top\n",
    "            self.top = new_node\n",
    "            self.minimum = value\n",
    "        else:\n",
    "            new_node = Node(value)\n",
    "            new_node.next = self.top\n",
    "            self.top = new_node\n",
    "        print(\"Number Inserted: {}\" .format(value))\n",
    "  \n",
    "   \n",
    "    def pop(self):\n",
    "        if self.top is None:\n",
    "            print(\"Stack is empty\")\n",
    "        else:\n",
    "            removedNode = self.top.value\n",
    "            self.top = self.top.next\n",
    "            if removedNode < self.minimum:\n",
    "                print(\"Top Most Element Removed :{} \" .format(self.minimum))\n",
    "                self.minimum = ((2 * self.minimum) - removedNode)\n",
    "            else:\n",
    "                print(\"Top Most Element Removed : {}\" .format(removedNode))\n",
    "  \n",
    "  \n",
    "\n",
    "if __name__ == '__main__':\n",
    "    s=Stack()\n",
    "s.push(3)\n",
    "s.push(5)\n",
    "s.getMin()\n",
    "s.push(2)\n",
    "s.push(1)\n",
    "s.getMin()\n",
    "s.pop()\n",
    "s.getMin()\n",
    "s.pop()"
   ]
  },
  {
   "cell_type": "code",
   "execution_count": null,
   "id": "c2e35b36",
   "metadata": {},
   "outputs": [],
   "source": []
  }
 ],
 "metadata": {
  "kernelspec": {
   "display_name": "Python 3 (ipykernel)",
   "language": "python",
   "name": "python3"
  },
  "language_info": {
   "codemirror_mode": {
    "name": "ipython",
    "version": 3
   },
   "file_extension": ".py",
   "mimetype": "text/x-python",
   "name": "python",
   "nbconvert_exporter": "python",
   "pygments_lexer": "ipython3",
   "version": "3.10.9"
  }
 },
 "nbformat": 4,
 "nbformat_minor": 5
}
